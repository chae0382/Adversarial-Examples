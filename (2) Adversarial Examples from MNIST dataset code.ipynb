{
 "cells": [
  {
   "cell_type": "code",
   "execution_count": 120,
   "id": "federal-electric",
   "metadata": {},
   "outputs": [],
   "source": [
    "import tensorflow as tf\n",
    "from tensorflow.keras.datasets import mnist\n",
    "from tensorflow.keras import Sequential\n",
    "from tensorflow.keras.callbacks import LambdaCallback\n",
    "from tensorflow.keras.layers import Dense,Activation\n",
    "import numpy as np\n",
    "import random\n",
    "import matplotlib.pyplot as plt"
   ]
  },
  {
   "cell_type": "code",
   "execution_count": 121,
   "id": "czech-baseline",
   "metadata": {},
   "outputs": [],
   "source": [
    "(x_train, y_train), (x_test, y_test) = mnist.load_data()"
   ]
  },
  {
   "cell_type": "code",
   "execution_count": 122,
   "id": "forty-tulsa",
   "metadata": {},
   "outputs": [],
   "source": [
    "labels = ['zero', 'one', 'two', 'three', 'four', 'five', 'six', 'seven', 'eight', 'nine']"
   ]
  },
  {
   "cell_type": "code",
   "execution_count": 123,
   "id": "cosmetic-allowance",
   "metadata": {},
   "outputs": [],
   "source": [
    "x_train = x_train / 255\n",
    "x_test = x_test / 255\n",
    "\n",
    "x_train = x_train.reshape((-1, 28, 28, 1))\n",
    "x_test = x_test.reshape((-1, 28, 28, 1))\n",
    "\n",
    "y_train = tf.keras.utils.to_categorical(y_train, 10)\n",
    "y_test = tf.keras.utils.to_categorical(y_test, 10)"
   ]
  },
  {
   "cell_type": "code",
   "execution_count": 124,
   "id": "hearing-assurance",
   "metadata": {},
   "outputs": [],
   "source": [
    "def create_model():\n",
    "    tf.model = tf.keras.Sequential()\n",
    "    tf.model.add(tf.keras.layers.Dense(units=10, input_dim=784, activation='softmax'))\n",
    "    tf.model.compile(loss='categorical_crossentropy', optimizer=tf.optimizers.Adam(0.001), metrics=['accuracy'])\n",
    "    return model\n",
    "\n",
    "model = create_model()"
   ]
  },
  {
   "cell_type": "code",
   "execution_count": 125,
   "id": "olympic-aaron",
   "metadata": {
    "scrolled": true
   },
   "outputs": [
    {
     "name": "stdout",
     "output_type": "stream",
     "text": [
      "Epoch 1/15\n",
      "938/938 [==============================] - 12s 13ms/step - loss: 0.0024 - accuracy: 0.9865 - val_loss: 0.0030 - val_accuracy: 0.9834\n",
      "Epoch 2/15\n",
      "938/938 [==============================] - 11s 12ms/step - loss: 0.0024 - accuracy: 0.9868 - val_loss: 0.0031 - val_accuracy: 0.9831\n",
      "Epoch 3/15\n",
      "938/938 [==============================] - 12s 12ms/step - loss: 0.0021 - accuracy: 0.9882 - val_loss: 0.0031 - val_accuracy: 0.9831\n",
      "Epoch 4/15\n",
      "938/938 [==============================] - 14s 15ms/step - loss: 0.0024 - accuracy: 0.9868 - val_loss: 0.0031 - val_accuracy: 0.9827\n",
      "Epoch 5/15\n",
      "938/938 [==============================] - 13s 14ms/step - loss: 0.0022 - accuracy: 0.9876 - val_loss: 0.0030 - val_accuracy: 0.9836\n",
      "Epoch 6/15\n",
      "938/938 [==============================] - 14s 15ms/step - loss: 0.0024 - accuracy: 0.9863 - val_loss: 0.0031 - val_accuracy: 0.9835\n",
      "Epoch 7/15\n",
      "938/938 [==============================] - 13s 14ms/step - loss: 0.0022 - accuracy: 0.9876 - val_loss: 0.0032 - val_accuracy: 0.9827\n",
      "Epoch 8/15\n",
      "938/938 [==============================] - 11s 12ms/step - loss: 0.0022 - accuracy: 0.9877 - val_loss: 0.0030 - val_accuracy: 0.9839\n",
      "Epoch 9/15\n",
      "938/938 [==============================] - 10s 11ms/step - loss: 0.0020 - accuracy: 0.9886 - val_loss: 0.0033 - val_accuracy: 0.9821\n",
      "Epoch 10/15\n",
      "938/938 [==============================] - 10s 11ms/step - loss: 0.0023 - accuracy: 0.9872 - val_loss: 0.0031 - val_accuracy: 0.9836\n",
      "Epoch 11/15\n",
      "938/938 [==============================] - 11s 12ms/step - loss: 0.0021 - accuracy: 0.9883 - val_loss: 0.0033 - val_accuracy: 0.9825\n",
      "Epoch 12/15\n",
      "938/938 [==============================] - 12s 13ms/step - loss: 0.0023 - accuracy: 0.9872 - val_loss: 0.0030 - val_accuracy: 0.9841\n",
      "Epoch 13/15\n",
      "938/938 [==============================] - 12s 13ms/step - loss: 0.0025 - accuracy: 0.9863 - val_loss: 0.0030 - val_accuracy: 0.9841\n",
      "Epoch 14/15\n",
      "938/938 [==============================] - 11s 12ms/step - loss: 0.0023 - accuracy: 0.9874 - val_loss: 0.0034 - val_accuracy: 0.9816\n",
      "Epoch 15/15\n",
      "938/938 [==============================] - 12s 12ms/step - loss: 0.0022 - accuracy: 0.9881 - val_loss: 0.0032 - val_accuracy: 0.9827\n"
     ]
    },
    {
     "data": {
      "text/plain": [
       "<tensorflow.python.keras.callbacks.History at 0x288e1a184c0>"
      ]
     },
     "execution_count": 125,
     "metadata": {},
     "output_type": "execute_result"
    }
   ],
   "source": [
    "model.fit(x_train, y_train,\n",
    "          batch_size=64,\n",
    "          epochs=15,\n",
    "          validation_data=(x_test, y_test))"
   ]
  },
  {
   "cell_type": "code",
   "execution_count": 126,
   "id": "considerable-factory",
   "metadata": {
    "scrolled": true
   },
   "outputs": [
    {
     "name": "stdout",
     "output_type": "stream",
     "text": [
      "perturbation 적용 전 정확도: [0.0032269833609461784, 0.982699990272522]\n"
     ]
    }
   ],
   "source": [
    "print(\"perturbation 적용 전 정확도:\", model.evaluate(x=x_test, y=y_test, verbose=0))"
   ]
  },
  {
   "cell_type": "code",
   "execution_count": 127,
   "id": "heated-deputy",
   "metadata": {},
   "outputs": [],
   "source": [
    "def adversarial_pattern(image, label):\n",
    "    image = tf.cast(image, tf.float32)\n",
    "    with tf.GradientTape() as tape:\n",
    "        tape.watch(image)\n",
    "        prediction = model(image)\n",
    "        loss = tf.keras.losses.MSE(label, prediction)\n",
    "    gradient = tape.gradient(loss, image)\n",
    "    signed_grad = tf.sign(gradient)\n",
    "    return signed_grad\n",
    "        "
   ]
  },
  {
   "cell_type": "code",
   "execution_count": 139,
   "id": "later-gibraltar",
   "metadata": {},
   "outputs": [],
   "source": [
    "image = x_train[2]\n",
    "image_label = y_train[2]"
   ]
  },
  {
   "cell_type": "code",
   "execution_count": 140,
   "id": "czech-penalty",
   "metadata": {},
   "outputs": [],
   "source": [
    "perturbations = adversarial_pattern(image.reshape((1, 28, 28, 1)), image_label).numpy()"
   ]
  },
  {
   "cell_type": "code",
   "execution_count": 141,
   "id": "earned-incentive",
   "metadata": {},
   "outputs": [],
   "source": [
    "adversarial = image + perturbations * 0.25"
   ]
  },
  {
   "cell_type": "code",
   "execution_count": 147,
   "id": "abstract-traffic",
   "metadata": {},
   "outputs": [
    {
     "data": {
      "image/png": "[encoded data removed]",
      "text/plain": [
       "<Figure size 432x288 with 1 Axes>"
      ]
     },
     "metadata": {
      "needs_background": "light"
     },
     "output_type": "display_data"
    }
   ],
   "source": [
    "plt.imshow(adversarial.reshape((28, 28)))\n",
    "plt.show()"
   ]
  },
  {
   "cell_type": "code",
   "execution_count": 148,
   "id": "derived-fundamental",
   "metadata": {},
   "outputs": [
    {
     "name": "stdout",
     "output_type": "stream",
     "text": [
      "four\n",
      "eight\n"
     ]
    }
   ],
   "source": [
    "print(labels[model.predict(image.reshape((1, 28, 28, 1))).argmax()])\n",
    "print(labels[model.predict(adversarial).argmax()])"
   ]
  },
  {
   "cell_type": "code",
   "execution_count": null,
   "id": "anticipated-roots",
   "metadata": {},
   "outputs": [],
   "source": []
  },
  {
   "cell_type": "code",
   "execution_count": null,
   "id": "brown-database",
   "metadata": {},
   "outputs": [],
   "source": []
  }
 ],
 "metadata": {
  "kernelspec": {
   "display_name": "Python [conda env:tensorflow] *",
   "language": "python",
   "name": "conda-env-tensorflow-py"
  },
  "language_info": {
   "codemirror_mode": {
    "name": "ipython",
    "version": 3
   },
   "file_extension": ".py",
   "mimetype": "text/x-python",
   "name": "python",
   "nbconvert_exporter": "python",
   "pygments_lexer": "ipython3",
   "version": "3.8.5"
  }
 },
 "nbformat": 4,
 "nbformat_minor": 5
}
